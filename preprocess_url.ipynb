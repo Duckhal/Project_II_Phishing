{
 "cells": [
  {
   "cell_type": "code",
   "execution_count": 4,
   "metadata": {},
   "outputs": [],
   "source": [
    "import re\n",
    "import socket\n",
    "import whois\n",
    "import requests\n",
    "import tldextract\n",
    "import pandas as pd\n",
    "from bs4 import BeautifulSoup\n",
    "from datetime import datetime"
   ]
  },
  {
   "cell_type": "code",
   "execution_count": 5,
   "metadata": {},
   "outputs": [],
   "source": [
    "def extract_static_features(url):\n",
    "    \"\"\"Trích xuất các đặc trưng tĩnh từ URL\"\"\"\n",
    "    features = {}\n",
    "    features['url_length'] = len(url)\n",
    "    features['dot_count'] = url.count('.')\n",
    "    features['dash_count'] = url.count('-')\n",
    "    features['slash_count'] = url.count('/')\n",
    "    features['at_symbol'] = 1 if '@' in url else 0\n",
    "    features['question_mark'] = 1 if '?' in url else 0\n",
    "    features['equals_sign'] = 1 if '=' in url else 0\n",
    "    \n",
    "    suspicious_keywords = ['login', 'secure', 'bank', 'verify', 'account', 'update', 'confirm']\n",
    "    features['suspicious_word'] = any(word in url.lower() for word in suspicious_keywords)\n",
    "    \n",
    "    features['has_ip_address'] = 1 if re.match(r'\\b(?:[0-9]{1,3}\\.){3}[0-9]{1,3}\\b', url) else 0\n",
    "    \n",
    "    extracted = tldextract.extract(url)\n",
    "    domain = f\"{extracted.domain}.{extracted.suffix}\"\n",
    "    features['domain_length'] = len(domain)\n",
    "    \n",
    "    try:\n",
    "        domain_info = whois.whois(domain)\n",
    "        creation_date = domain_info.creation_date[0] if isinstance(domain_info.creation_date, list) else domain_info.creation_date\n",
    "        expiration_date = domain_info.expiration_date[0] if isinstance(domain_info.expiration_date, list) else domain_info.expiration_date\n",
    "        \n",
    "        if creation_date and expiration_date:\n",
    "            features['domain_age'] = (datetime.now() - creation_date).days\n",
    "            features['domain_expiration'] = (expiration_date - datetime.now()).days\n",
    "        else:\n",
    "            features['domain_age'] = -1\n",
    "            features['domain_expiration'] = -1\n",
    "    except:\n",
    "        features['domain_age'] = -1\n",
    "        features['domain_expiration'] = -1\n",
    "    \n",
    "    return features"
   ]
  },
  {
   "cell_type": "code",
   "execution_count": 6,
   "metadata": {},
   "outputs": [],
   "source": [
    "def extract_dynamic_features(url):\n",
    "    \"\"\"Trích xuất các đặc trưng động từ URL\"\"\"\n",
    "    features = {}\n",
    "    try:\n",
    "        response = requests.get(url, timeout=5)\n",
    "        soup = BeautifulSoup(response.text, 'html.parser')\n",
    "        \n",
    "        features['status_code'] = response.status_code\n",
    "        features['has_ssl_certificate'] = 1 if url.startswith('https') else 0\n",
    "        features['iframe_count'] = len(soup.find_all('iframe'))\n",
    "        features['form_count'] = len(soup.find_all('form'))\n",
    "        features['has_redirect'] = 1 if len(response.history) > 0 else 0\n",
    "        \n",
    "    except:\n",
    "        features['status_code'] = -1\n",
    "        features['has_ssl_certificate'] = -1\n",
    "        features['iframe_count'] = -1\n",
    "        features['form_count'] = -1\n",
    "        features['has_redirect'] = -1\n",
    "    \n",
    "    return features"
   ]
  },
  {
   "cell_type": "code",
   "execution_count": 7,
   "metadata": {},
   "outputs": [],
   "source": [
    "def extract_features(url):\n",
    "    \"\"\"Kết hợp cả đặc trưng tĩnh và động\"\"\"\n",
    "    features = {}\n",
    "    features.update(extract_static_features(url))\n",
    "    features.update(extract_dynamic_features(url))\n",
    "    features['url'] = url\n",
    "    return features"
   ]
  },
  {
   "cell_type": "code",
   "execution_count": 8,
   "metadata": {},
   "outputs": [],
   "source": [
    "def process_csv(file_path, output_file):\n",
    "    \"\"\"Đọc URL từ file CSV, trích xuất đặc trưng và lưu vào file CSV mới\"\"\"\n",
    "    df = pd.read_csv(file_path)\n",
    "    extracted_features = [extract_features(url) for url in df['url']]\n",
    "    output_df = pd.DataFrame(extracted_features)\n",
    "    output_df.to_csv(output_file, index=False)\n",
    "    print(f\"Features extracted and saved to {output_file}\")"
   ]
  },
  {
   "cell_type": "code",
   "execution_count": null,
   "metadata": {},
   "outputs": [
    {
     "name": "stderr",
     "output_type": "stream",
     "text": [
      "2025-04-02 15:14:53,883 - whois.whois - ERROR - Error trying to connect to socket: closing socket - [WinError 10061] No connection could be made because the target machine actively refused it\n",
      "2025-04-02 15:16:09,987 - whois.whois - ERROR - Error trying to connect to socket: closing socket - timed out\n"
     ]
    }
   ],
   "source": [
    "# Test với file CSV\n",
    "input_file = \"D:\\\\Python\\\\Project2_phishing\\\\Dataset\\\\DataTrain.csv\"  # Đảm bảo file này có cột 'url'\n",
    "output_file = \"D:\\\\Python\\\\Project2_phishing\\\\Dataset\\\\features.csv\"\n",
    "process_csv(input_file, output_file)"
   ]
  }
 ],
 "metadata": {
  "kernelspec": {
   "display_name": "Python 3",
   "language": "python",
   "name": "python3"
  },
  "language_info": {
   "codemirror_mode": {
    "name": "ipython",
    "version": 3
   },
   "file_extension": ".py",
   "mimetype": "text/x-python",
   "name": "python",
   "nbconvert_exporter": "python",
   "pygments_lexer": "ipython3",
   "version": "3.12.6"
  }
 },
 "nbformat": 4,
 "nbformat_minor": 2
}
